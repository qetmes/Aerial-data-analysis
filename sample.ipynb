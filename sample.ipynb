{
 "cells": [
  {
   "cell_type": "code",
   "execution_count": 1,
   "metadata": {
    "Collapsed": "false"
   },
   "outputs": [],
   "source": [
    "import numpy as np\n",
    "import pandas as pd\n",
    "import warnings\n",
    "import matplotlib.pyplot as plt\n",
    "import datetime\n",
    "\n",
    "warnings.filterwarnings('ignore')\n",
    "pd.set_option('display.max_colwidth', 100)\n",
    "pd.set_option('display.max_info_columns', 100)\n",
    "pd.set_option('display.max_columns', 100)"
   ]
  },
  {
   "cell_type": "code",
   "execution_count": 2,
   "metadata": {
    "Collapsed": "false"
   },
   "outputs": [],
   "source": [
    "# df.to_pickle('airline_data.pkl')\n",
    "df = pd.read_pickle('./airline_des_data.pkl')"
   ]
  },
  {
   "cell_type": "markdown",
   "metadata": {
    "Collapsed": "false"
   },
   "source": [
    "# 1. 数据字段解释"
   ]
  },
  {
   "cell_type": "markdown",
   "metadata": {
    "Collapsed": "false"
   },
   "source": [
    "这份数据是从2020-09-01至2020-10-31止，两个月内起飞的国内17个航司所有（约3万）个航班的约700万条售票数据，数据已经脱敏处理。\n",
    "每一个航班从起飞前7天开始按天采集数据，直到起飞后一天（EX_DIF=-1）结束采集。航班起飞后一天的数据是航班的最终状态数据。"
   ]
  },
  {
   "cell_type": "markdown",
   "metadata": {
    "Collapsed": "false"
   },
   "source": [
    "<table style=\"float: left; width: 100%;\">\n",
    "<thead>\n",
    "<tr>\n",
    "<th align=\"left\">字段</th>\n",
    "<th align=\"left\">含义</th>\n",
    "<th align=\"left\">字段</th>\n",
    "<th align=\"left\">含义</th>\n",
    "<th align=\"left\">字段</th>\n",
    "<th align=\"left\">含义</th>\n",
    "<th align=\"left\">字段</th>\n",
    "<th align=\"left\">含义</th>\n",
    "</tr>\n",
    "</thead>\n",
    "<tbody><tr>\n",
    "<td align=\"left\">EX_DATE</td>\n",
    "<td align=\"left\">采集日期</td>\n",
    "<td align=\"left\">CAP</td>\n",
    "<td align=\"left\">布局（总座位数）</td>\n",
    "<td align=\"left\">UPDIS_TIME</td>\n",
    "<td align=\"left\">起飞时间</td>\n",
    "<td align=\"left\">ZGLSR</td>\n",
    "<td align=\"left\">座公里收入</td>\n",
    "</tr>\n",
    "<tr>\n",
    "<td align=\"left\">DEP_DATE</td>\n",
    "<td align=\"left\">航班起飞日期</td>\n",
    "<td align=\"left\">CAP_F</td>\n",
    "<td align=\"left\">F布局</td>\n",
    "<td align=\"left\">PRO_INCOME</td>\n",
    "<td align=\"left\">预估收入</td>\n",
    "<td align=\"left\">KGLSR</td>\n",
    "<td align=\"left\">客公里收入</td>\n",
    "</tr>\n",
    "<tr>\n",
    "<td align=\"left\">AIR_CODE</td>\n",
    "<td align=\"left\">公司</td>\n",
    "<td align=\"left\">CAPS</td>\n",
    "<td align=\"left\">航节布局</td>\n",
    "<td align=\"left\">PRO_INCOMEP</td>\n",
    "<td align=\"left\">每班收入</td>\n",
    "<td align=\"left\">LKZK</td>\n",
    "<td align=\"left\">旅客折扣</td>\n",
    "</tr>\n",
    "<tr>\n",
    "<td align=\"left\">FLIGHT_NO</td>\n",
    "<td align=\"left\">航班</td>\n",
    "<td align=\"left\">CAPS2</td>\n",
    "<td align=\"left\">修正布局</td>\n",
    "<td align=\"left\">FLT</td>\n",
    "<td align=\"left\">航班数</td>\n",
    "<td align=\"left\">ZWZK</td>\n",
    "<td align=\"left\">座位折扣</td>\n",
    "</tr>\n",
    "<tr>\n",
    "<td align=\"left\">UP_LOCATION</td>\n",
    "<td align=\"left\">出发</td>\n",
    "<td align=\"left\">BKD</td>\n",
    "<td align=\"left\">实乘（累计订票数）</td>\n",
    "<td align=\"left\">KZL</td>\n",
    "<td align=\"left\">客座率</td>\n",
    "<td align=\"left\">ELINE</td>\n",
    "<td align=\"left\">航线</td>\n",
    "</tr>\n",
    "<tr>\n",
    "<td align=\"left\">DIS_LOCATION</td>\n",
    "<td align=\"left\">到达</td>\n",
    "<td align=\"left\">F_BKD</td>\n",
    "<td align=\"left\">F实乘</td>\n",
    "<td align=\"left\">F_KZL</td>\n",
    "<td align=\"left\">F客座率</td>\n",
    "<td align=\"left\"></td>\n",
    "<td align=\"left\"></td>\n",
    "</tr>\n",
    "<tr>\n",
    "<td align=\"left\">EX_DIF</td>\n",
    "<td align=\"left\">距离起飞天数(起飞后:-1)</td>\n",
    "<td align=\"left\">BKDP</td>\n",
    "<td align=\"left\">每班实乘</td>\n",
    "<td align=\"left\">LYL</td>\n",
    "<td align=\"left\">利用率</td>\n",
    "<td align=\"left\"></td>\n",
    "<td align=\"left\"></td>\n",
    "</tr>\n",
    "</tbody></table>"
   ]
  },
  {
   "cell_type": "code",
   "execution_count": 3,
   "metadata": {
    "Collapsed": "false"
   },
   "outputs": [],
   "source": [
    "# 唯一确定一个航班的五要素\n",
    "flight_key_cols = ['AIR_CODE', 'FLIGHT_NO', 'DEP_DATE', 'UP_LOCATION', 'DIS_LOCATION']\n",
    "\n",
    "# 航班舱位字段 # df.columns[25:]\n",
    "slot_cols = ['CA', 'CB', 'CC', 'CD', 'CE', 'CF', 'CG', 'CH', 'CI', 'CJ', 'CK', 'CL','CM', \n",
    "             'CN', 'CO', 'CP', 'CQ', 'CR', 'CS', 'CT', 'CU', 'CV', 'CW', 'CX', 'CY', 'CZ']"
   ]
  },
  {
   "cell_type": "markdown",
   "metadata": {
    "Collapsed": "false"
   },
   "source": [
    "# 2. 数据概貌"
   ]
  },
  {
   "cell_type": "code",
   "execution_count": 4,
   "metadata": {
    "Collapsed": "false"
   },
   "outputs": [
    {
     "name": "stdout",
     "output_type": "stream",
     "text": [
      "记录总数: 6911332\n",
      "起止日期: 2020-09-01T00:00:00.000000000 , 2020-10-31T00:00:00.000000000\n",
      "航司总数: 17\n",
      "航班总数: 28809\n",
      "航段总数: 6488\n"
     ]
    },
    {
     "data": {
      "text/plain": [
       "<matplotlib.axes._subplots.AxesSubplot at 0x7f4dd41e8d10>"
      ]
     },
     "execution_count": 4,
     "metadata": {},
     "output_type": "execute_result"
    },
    {
     "data": {
      "image/png": "[encoded data removed]",
      "text/plain": [
       "<Figure size 432x288 with 1 Axes>"
      ]
     },
     "metadata": {
      "needs_background": "light"
     },
     "output_type": "display_data"
    }
   ],
   "source": [
    "print('记录总数:', df.shape[0])\n",
    "print('起止日期:', df.DEP_DATE.unique().min(), ',', df.DEP_DATE.unique().max())\n",
    "print('航司总数:', df.AIR_CODE.unique().shape[0])\n",
    "print('航班总数:', df[['AIR_CODE', 'FLIGHT_NO']].drop_duplicates().shape[0])\n",
    "print('航段总数:', df[['UP_LOCATION', 'DIS_LOCATION']].drop_duplicates().shape[0])\n",
    "df[df.EX_DIF == -1].DEP_DATE.value_counts().sort_index().plot(title='Number of daily flights', rot=15)"
   ]
  },
  {
   "cell_type": "markdown",
   "metadata": {
    "Collapsed": "false"
   },
   "source": [
    "# 3. 单个航班数据示例"
   ]
  },
  {
   "cell_type": "code",
   "execution_count": 5,
   "metadata": {
    "Collapsed": "false"
   },
   "outputs": [],
   "source": [
    "# 所有数据按照航班分组\n",
    "flight_groups = df.groupby(flight_key_cols)\n",
    "flight_keys = df[flight_key_cols].drop_duplicates()"
   ]
  },
  {
   "cell_type": "code",
   "execution_count": 6,
   "metadata": {
    "Collapsed": "false"
   },
   "outputs": [
    {
     "name": "stdout",
     "output_type": "stream",
     "text": [
      "随机选择的航班:  ('MF', 8945, Timestamp('2020-10-01 00:00:00'), 'NZH', 'CDG')\n",
      "该航班起飞前7天关键销售数据:\n"
     ]
    },
    {
     "data": {
      "text/html": [
       "<div>\n",
       "<style scoped>\n",
       "    .dataframe tbody tr th:only-of-type {\n",
       "        vertical-align: middle;\n",
       "    }\n",
       "\n",
       "    .dataframe tbody tr th {\n",
       "        vertical-align: top;\n",
       "    }\n",
       "\n",
       "    .dataframe thead th {\n",
       "        text-align: right;\n",
       "    }\n",
       "</style>\n",
       "<table border=\"1\" class=\"dataframe\">\n",
       "  <thead>\n",
       "    <tr style=\"text-align: right;\">\n",
       "      <th></th>\n",
       "      <th>EX_DIF</th>\n",
       "      <th>BKD</th>\n",
       "      <th>KZL</th>\n",
       "      <th>ZWZK</th>\n",
       "      <th>CA</th>\n",
       "      <th>CB</th>\n",
       "      <th>CC</th>\n",
       "      <th>CD</th>\n",
       "      <th>CE</th>\n",
       "      <th>CF</th>\n",
       "      <th>CG</th>\n",
       "      <th>CH</th>\n",
       "      <th>CI</th>\n",
       "      <th>CJ</th>\n",
       "      <th>CK</th>\n",
       "      <th>CL</th>\n",
       "      <th>CM</th>\n",
       "      <th>CN</th>\n",
       "      <th>CO</th>\n",
       "      <th>CP</th>\n",
       "      <th>CQ</th>\n",
       "      <th>CR</th>\n",
       "      <th>CS</th>\n",
       "      <th>CT</th>\n",
       "      <th>CU</th>\n",
       "      <th>CV</th>\n",
       "      <th>CW</th>\n",
       "      <th>CX</th>\n",
       "      <th>CY</th>\n",
       "      <th>CZ</th>\n",
       "    </tr>\n",
       "  </thead>\n",
       "  <tbody>\n",
       "    <tr>\n",
       "      <td>98226</td>\n",
       "      <td>-1</td>\n",
       "      <td>83</td>\n",
       "      <td>0.51875</td>\n",
       "      <td>0.274375</td>\n",
       "      <td>0</td>\n",
       "      <td>0</td>\n",
       "      <td>0</td>\n",
       "      <td>0</td>\n",
       "      <td>1</td>\n",
       "      <td>0</td>\n",
       "      <td>0</td>\n",
       "      <td>0</td>\n",
       "      <td>3</td>\n",
       "      <td>0</td>\n",
       "      <td>17</td>\n",
       "      <td>0</td>\n",
       "      <td>0</td>\n",
       "      <td>4</td>\n",
       "      <td>0</td>\n",
       "      <td>0</td>\n",
       "      <td>0</td>\n",
       "      <td>37</td>\n",
       "      <td>0</td>\n",
       "      <td>0</td>\n",
       "      <td>0</td>\n",
       "      <td>20</td>\n",
       "      <td>0</td>\n",
       "      <td>0</td>\n",
       "      <td>1</td>\n",
       "      <td>0</td>\n",
       "    </tr>\n",
       "    <tr>\n",
       "      <td>98218</td>\n",
       "      <td>0</td>\n",
       "      <td>85</td>\n",
       "      <td>0.53125</td>\n",
       "      <td>0.266875</td>\n",
       "      <td>0</td>\n",
       "      <td>0</td>\n",
       "      <td>0</td>\n",
       "      <td>0</td>\n",
       "      <td>1</td>\n",
       "      <td>0</td>\n",
       "      <td>0</td>\n",
       "      <td>0</td>\n",
       "      <td>3</td>\n",
       "      <td>0</td>\n",
       "      <td>10</td>\n",
       "      <td>0</td>\n",
       "      <td>0</td>\n",
       "      <td>6</td>\n",
       "      <td>0</td>\n",
       "      <td>0</td>\n",
       "      <td>0</td>\n",
       "      <td>40</td>\n",
       "      <td>0</td>\n",
       "      <td>0</td>\n",
       "      <td>0</td>\n",
       "      <td>25</td>\n",
       "      <td>0</td>\n",
       "      <td>0</td>\n",
       "      <td>0</td>\n",
       "      <td>0</td>\n",
       "    </tr>\n",
       "    <tr>\n",
       "      <td>98219</td>\n",
       "      <td>1</td>\n",
       "      <td>72</td>\n",
       "      <td>0.45000</td>\n",
       "      <td>0.207500</td>\n",
       "      <td>0</td>\n",
       "      <td>0</td>\n",
       "      <td>0</td>\n",
       "      <td>0</td>\n",
       "      <td>0</td>\n",
       "      <td>0</td>\n",
       "      <td>0</td>\n",
       "      <td>0</td>\n",
       "      <td>2</td>\n",
       "      <td>0</td>\n",
       "      <td>0</td>\n",
       "      <td>0</td>\n",
       "      <td>0</td>\n",
       "      <td>5</td>\n",
       "      <td>0</td>\n",
       "      <td>0</td>\n",
       "      <td>0</td>\n",
       "      <td>40</td>\n",
       "      <td>0</td>\n",
       "      <td>0</td>\n",
       "      <td>0</td>\n",
       "      <td>25</td>\n",
       "      <td>0</td>\n",
       "      <td>0</td>\n",
       "      <td>0</td>\n",
       "      <td>0</td>\n",
       "    </tr>\n",
       "    <tr>\n",
       "      <td>98220</td>\n",
       "      <td>2</td>\n",
       "      <td>65</td>\n",
       "      <td>0.40625</td>\n",
       "      <td>0.183125</td>\n",
       "      <td>0</td>\n",
       "      <td>0</td>\n",
       "      <td>0</td>\n",
       "      <td>0</td>\n",
       "      <td>0</td>\n",
       "      <td>0</td>\n",
       "      <td>0</td>\n",
       "      <td>0</td>\n",
       "      <td>2</td>\n",
       "      <td>0</td>\n",
       "      <td>0</td>\n",
       "      <td>0</td>\n",
       "      <td>0</td>\n",
       "      <td>0</td>\n",
       "      <td>0</td>\n",
       "      <td>0</td>\n",
       "      <td>0</td>\n",
       "      <td>38</td>\n",
       "      <td>0</td>\n",
       "      <td>0</td>\n",
       "      <td>0</td>\n",
       "      <td>25</td>\n",
       "      <td>0</td>\n",
       "      <td>0</td>\n",
       "      <td>0</td>\n",
       "      <td>0</td>\n",
       "    </tr>\n",
       "    <tr>\n",
       "      <td>98221</td>\n",
       "      <td>3</td>\n",
       "      <td>54</td>\n",
       "      <td>0.33750</td>\n",
       "      <td>0.152188</td>\n",
       "      <td>0</td>\n",
       "      <td>0</td>\n",
       "      <td>0</td>\n",
       "      <td>0</td>\n",
       "      <td>0</td>\n",
       "      <td>0</td>\n",
       "      <td>0</td>\n",
       "      <td>0</td>\n",
       "      <td>2</td>\n",
       "      <td>0</td>\n",
       "      <td>0</td>\n",
       "      <td>0</td>\n",
       "      <td>0</td>\n",
       "      <td>0</td>\n",
       "      <td>0</td>\n",
       "      <td>0</td>\n",
       "      <td>0</td>\n",
       "      <td>27</td>\n",
       "      <td>0</td>\n",
       "      <td>0</td>\n",
       "      <td>0</td>\n",
       "      <td>25</td>\n",
       "      <td>0</td>\n",
       "      <td>0</td>\n",
       "      <td>0</td>\n",
       "      <td>0</td>\n",
       "    </tr>\n",
       "    <tr>\n",
       "      <td>98222</td>\n",
       "      <td>4</td>\n",
       "      <td>52</td>\n",
       "      <td>0.32500</td>\n",
       "      <td>0.150625</td>\n",
       "      <td>0</td>\n",
       "      <td>0</td>\n",
       "      <td>0</td>\n",
       "      <td>0</td>\n",
       "      <td>0</td>\n",
       "      <td>0</td>\n",
       "      <td>0</td>\n",
       "      <td>0</td>\n",
       "      <td>3</td>\n",
       "      <td>0</td>\n",
       "      <td>0</td>\n",
       "      <td>0</td>\n",
       "      <td>0</td>\n",
       "      <td>0</td>\n",
       "      <td>0</td>\n",
       "      <td>0</td>\n",
       "      <td>0</td>\n",
       "      <td>24</td>\n",
       "      <td>0</td>\n",
       "      <td>0</td>\n",
       "      <td>0</td>\n",
       "      <td>25</td>\n",
       "      <td>0</td>\n",
       "      <td>0</td>\n",
       "      <td>0</td>\n",
       "      <td>0</td>\n",
       "    </tr>\n",
       "    <tr>\n",
       "      <td>98223</td>\n",
       "      <td>5</td>\n",
       "      <td>35</td>\n",
       "      <td>0.21875</td>\n",
       "      <td>0.107813</td>\n",
       "      <td>0</td>\n",
       "      <td>0</td>\n",
       "      <td>0</td>\n",
       "      <td>0</td>\n",
       "      <td>0</td>\n",
       "      <td>0</td>\n",
       "      <td>0</td>\n",
       "      <td>0</td>\n",
       "      <td>3</td>\n",
       "      <td>0</td>\n",
       "      <td>0</td>\n",
       "      <td>0</td>\n",
       "      <td>0</td>\n",
       "      <td>0</td>\n",
       "      <td>0</td>\n",
       "      <td>0</td>\n",
       "      <td>0</td>\n",
       "      <td>23</td>\n",
       "      <td>0</td>\n",
       "      <td>0</td>\n",
       "      <td>0</td>\n",
       "      <td>9</td>\n",
       "      <td>0</td>\n",
       "      <td>0</td>\n",
       "      <td>0</td>\n",
       "      <td>0</td>\n",
       "    </tr>\n",
       "    <tr>\n",
       "      <td>98224</td>\n",
       "      <td>6</td>\n",
       "      <td>28</td>\n",
       "      <td>0.17500</td>\n",
       "      <td>0.086875</td>\n",
       "      <td>0</td>\n",
       "      <td>0</td>\n",
       "      <td>0</td>\n",
       "      <td>0</td>\n",
       "      <td>0</td>\n",
       "      <td>0</td>\n",
       "      <td>0</td>\n",
       "      <td>0</td>\n",
       "      <td>2</td>\n",
       "      <td>0</td>\n",
       "      <td>0</td>\n",
       "      <td>0</td>\n",
       "      <td>0</td>\n",
       "      <td>0</td>\n",
       "      <td>0</td>\n",
       "      <td>0</td>\n",
       "      <td>0</td>\n",
       "      <td>26</td>\n",
       "      <td>0</td>\n",
       "      <td>0</td>\n",
       "      <td>0</td>\n",
       "      <td>0</td>\n",
       "      <td>0</td>\n",
       "      <td>0</td>\n",
       "      <td>0</td>\n",
       "      <td>0</td>\n",
       "    </tr>\n",
       "    <tr>\n",
       "      <td>98225</td>\n",
       "      <td>7</td>\n",
       "      <td>27</td>\n",
       "      <td>0.16875</td>\n",
       "      <td>0.084062</td>\n",
       "      <td>0</td>\n",
       "      <td>0</td>\n",
       "      <td>0</td>\n",
       "      <td>0</td>\n",
       "      <td>0</td>\n",
       "      <td>0</td>\n",
       "      <td>0</td>\n",
       "      <td>0</td>\n",
       "      <td>2</td>\n",
       "      <td>0</td>\n",
       "      <td>0</td>\n",
       "      <td>0</td>\n",
       "      <td>0</td>\n",
       "      <td>0</td>\n",
       "      <td>0</td>\n",
       "      <td>0</td>\n",
       "      <td>0</td>\n",
       "      <td>25</td>\n",
       "      <td>0</td>\n",
       "      <td>0</td>\n",
       "      <td>0</td>\n",
       "      <td>0</td>\n",
       "      <td>0</td>\n",
       "      <td>0</td>\n",
       "      <td>0</td>\n",
       "      <td>0</td>\n",
       "    </tr>\n",
       "  </tbody>\n",
       "</table>\n",
       "</div>"
      ],
      "text/plain": [
       "       EX_DIF  BKD      KZL      ZWZK  CA  CB  CC  CD  CE  CF  CG  CH  CI  CJ  \\\n",
       "98226      -1   83  0.51875  0.274375   0   0   0   0   1   0   0   0   3   0   \n",
       "98218       0   85  0.53125  0.266875   0   0   0   0   1   0   0   0   3   0   \n",
       "98219       1   72  0.45000  0.207500   0   0   0   0   0   0   0   0   2   0   \n",
       "98220       2   65  0.40625  0.183125   0   0   0   0   0   0   0   0   2   0   \n",
       "98221       3   54  0.33750  0.152188   0   0   0   0   0   0   0   0   2   0   \n",
       "98222       4   52  0.32500  0.150625   0   0   0   0   0   0   0   0   3   0   \n",
       "98223       5   35  0.21875  0.107813   0   0   0   0   0   0   0   0   3   0   \n",
       "98224       6   28  0.17500  0.086875   0   0   0   0   0   0   0   0   2   0   \n",
       "98225       7   27  0.16875  0.084062   0   0   0   0   0   0   0   0   2   0   \n",
       "\n",
       "       CK  CL  CM  CN  CO  CP  CQ  CR  CS  CT  CU  CV  CW  CX  CY  CZ  \n",
       "98226  17   0   0   4   0   0   0  37   0   0   0  20   0   0   1   0  \n",
       "98218  10   0   0   6   0   0   0  40   0   0   0  25   0   0   0   0  \n",
       "98219   0   0   0   5   0   0   0  40   0   0   0  25   0   0   0   0  \n",
       "98220   0   0   0   0   0   0   0  38   0   0   0  25   0   0   0   0  \n",
       "98221   0   0   0   0   0   0   0  27   0   0   0  25   0   0   0   0  \n",
       "98222   0   0   0   0   0   0   0  24   0   0   0  25   0   0   0   0  \n",
       "98223   0   0   0   0   0   0   0  23   0   0   0   9   0   0   0   0  \n",
       "98224   0   0   0   0   0   0   0  26   0   0   0   0   0   0   0   0  \n",
       "98225   0   0   0   0   0   0   0  25   0   0   0   0   0   0   0   0  "
      ]
     },
     "execution_count": 6,
     "metadata": {},
     "output_type": "execute_result"
    }
   ],
   "source": [
    "# 随机展示一个航班数据\n",
    "random_flight_key = tuple(flight_keys.sample(1).iloc[0].to_list())\n",
    "flight = flight_groups.get_group(random_flight_key).sort_values(by='EX_DIF')\n",
    "\n",
    "print('随机选择的航班: ', random_flight_key)\n",
    "print('该航班起飞前7天关键销售数据:')\n",
    "flight[ ['EX_DIF', 'BKD', 'KZL', 'ZWZK'] + slot_cols ]"
   ]
  },
  {
   "cell_type": "code",
   "execution_count": 7,
   "metadata": {
    "Collapsed": "false"
   },
   "outputs": [
    {
     "name": "stdout",
     "output_type": "stream",
     "text": [
      "该航班的 累计/每日 订座数量:\n"
     ]
    },
    {
     "data": {
      "image/png": "[encoded data removed]",
      "text/plain": [
       "<Figure size 432x288 with 1 Axes>"
      ]
     },
     "metadata": {
      "needs_background": "light"
     },
     "output_type": "display_data"
    }
   ],
   "source": [
    "# 画图展示\n",
    "print('该航班的 累计/每日 订座数量:')\n",
    "plt.bar(flight.EX_DIF, flight.BKD - flight.BKD.shift(-1).fillna(0))\n",
    "plt.plot(flight.EX_DIF, flight.BKD.values, 'g^-')\n",
    "plt.gca().invert_xaxis()\n",
    "plt.show()"
   ]
  },
  {
   "cell_type": "markdown",
   "metadata": {
    "Collapsed": "false"
   },
   "source": [
    "# 4. 问题"
   ]
  },
  {
   "cell_type": "markdown",
   "metadata": {
    "Collapsed": "false"
   },
   "source": [
    "1. 五要素('AIR_CODE', 'FLIGHT_NO', 'DEP_DATE', 'UP_LOCATION', 'DIS_LOCATION')决定一个航班。\n",
    "2. D0表示航班起飞当天；D1、D2、...表示航班起飞前1天、2天、...；D-1表示航班起飞后第二天(数据中D对应的字段是EX_DIF)。\n",
    "3. 在一个航班起飞前的每一天D1、D2、...D7，预测D-1天的DBK数。\n",
    "4. 预测越早，越准确越好（一般来说越早越不好预测，比如D5天预测比D0天预测难度更大）。 \n",
    "5. 预测时可以使用一个航班自己的数据，也可以使用任何其他航班的数据，但是注意不能用未来数据。\n",
    "6. 未来数据是指不能使用预测当天之后采集的数据，比如一个航班在D3天预测，该航班D3对应的数据采集日期是2020-09-15，那么可以使用数据采集日期在2020-09-15之前的任何数据。\n",
    "7. 注意航班之间形成了复杂的运输网络结构，如果使用更多的其他航班的数据，可能预测结果更好。\n",
    "8. 目前的基线模型在D3预测的D-1的DBK误差在7%以内。"
   ]
  },
  {
   "cell_type": "code",
   "execution_count": null,
   "metadata": {
    "Collapsed": "false"
   },
   "outputs": [],
   "source": [
    "import pandas as pd\n",
    "df = pd.read_pickle('./airline_des_data.pkl')\n",
    "print(df.shape)"
   ]
  },
  {
   "cell_type": "code",
   "execution_count": null,
   "metadata": {},
   "outputs": [],
   "source": []
  }
 ],
 "metadata": {
  "kernelspec": {
   "display_name": "Python 3",
   "language": "python",
   "name": "python3"
  },
  "language_info": {
   "codemirror_mode": {
    "name": "ipython",
    "version": 3
   },
   "file_extension": ".py",
   "mimetype": "text/x-python",
   "name": "python",
   "nbconvert_exporter": "python",
   "pygments_lexer": "ipython3",
   "version": "3.7.4"
  }
 },
 "nbformat": 4,
 "nbformat_minor": 4
}
